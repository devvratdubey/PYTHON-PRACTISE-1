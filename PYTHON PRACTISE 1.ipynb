{
 "cells": [
  {
   "cell_type": "code",
   "execution_count": null,
   "id": "fac319f7",
   "metadata": {},
   "outputs": [],
   "source": [
    "#Q1\n",
    "def add_numbers(x,y):\n",
    "    return x+y"
   ]
  },
  {
   "cell_type": "code",
   "execution_count": null,
   "id": "069938b6",
   "metadata": {},
   "outputs": [],
   "source": [
    "x=float(input(\"Enter the first number\"))\n",
    "y=float(input(\"Enter the second number\"))\n",
    "print(f\"sum of the numbers are {add(x,y)}\")"
   ]
  },
  {
   "cell_type": "markdown",
   "id": "38d8f79c",
   "metadata": {},
   "source": [
    "#Q2 ANSWER`"
   ]
  },
  {
   "cell_type": "code",
   "execution_count": null,
   "id": "a799f481",
   "metadata": {},
   "outputs": [],
   "source": [
    "import math as mt\n",
    "x=float(input(\"enter any number\"))\n",
    "print(f\"Square root of the number is {mt.sqrt(x)}\")"
   ]
  },
  {
   "cell_type": "markdown",
   "id": "557eba49",
   "metadata": {},
   "source": [
    "#Q3 ANSWER"
   ]
  },
  {
   "cell_type": "code",
   "execution_count": null,
   "id": "601033ad",
   "metadata": {},
   "outputs": [],
   "source": [
    "def primechecker(n):\n",
    "    if n>1:\n",
    "        for i in range(2,int(n/2)+1):\n",
    "            if n%i==0:\n",
    "                break\n",
    "        else:\n",
    "            return True\n",
    "        return False\n",
    "    return False"
   ]
  },
  {
   "cell_type": "code",
   "execution_count": null,
   "id": "8cabe0ff",
   "metadata": {},
   "outputs": [],
   "source": [
    "n=float(input(\"enter any number between 0 to 50\\t\"))\n",
    "if n>1:\n",
    "    for i in range(2,int(n)+1):\n",
    "        if primechecker(i):\n",
    "            print(i)\n",
    "else:\n",
    "    print(\"no prime number between this range\")"
   ]
  },
  {
   "cell_type": "markdown",
   "id": "9ab781bd",
   "metadata": {},
   "source": [
    "#Q4 ANSWER"
   ]
  },
  {
   "cell_type": "code",
   "execution_count": null,
   "id": "42fc257b",
   "metadata": {},
   "outputs": [],
   "source": [
    "a,b,c=input(\"Enter 3 number separated by comma\").split(',')\n",
    "a,b,c=c,a,b\n",
    "print(f\"The value of a,b,c is {a,b,c}\")\n"
   ]
  },
  {
   "cell_type": "markdown",
   "id": "6d9784bf",
   "metadata": {},
   "source": [
    "#Q5 ANSWER"
   ]
  },
  {
   "cell_type": "code",
   "execution_count": null,
   "id": "1d4339b3",
   "metadata": {},
   "outputs": [],
   "source": [
    "n=float(input(\"Enter any number\"))\n",
    "if n>0:\n",
    "    print(\"positive\")\n",
    "elif n<0:\n",
    "    print(\"negative\")\n",
    "else:\n",
    "    print(\"zero\")\n"
   ]
  },
  {
   "cell_type": "markdown",
   "id": "81af6e2a",
   "metadata": {},
   "source": [
    "#Q6 ANSWER"
   ]
  },
  {
   "cell_type": "code",
   "execution_count": null,
   "id": "44878747",
   "metadata": {},
   "outputs": [],
   "source": [
    "n=int(input(\"enter any number\"))\n",
    "if n%2==0:\n",
    "    print(f\"{n} is an even number\")\n",
    "else:\n",
    "    print(f\"{n} is an odd number\")"
   ]
  },
  {
   "cell_type": "markdown",
   "id": "41673889",
   "metadata": {},
   "source": [
    "#Q7 ANSWER"
   ]
  },
  {
   "cell_type": "code",
   "execution_count": 1,
   "id": "72c4b616",
   "metadata": {},
   "outputs": [
    {
     "name": "stdout",
     "output_type": "stream",
     "text": [
      "Enter any number123456\n",
      "sum of the digits is 21\n"
     ]
    }
   ],
   "source": [
    "n=int(input(\"Enter any number\"))\n",
    "sum=0\n",
    "while n>0:\n",
    "    sum=sum+n%10\n",
    "    n=n//10\n",
    "print(f\"sum of the digits is {sum}\")"
   ]
  },
  {
   "cell_type": "markdown",
   "id": "7a742f0f",
   "metadata": {},
   "source": [
    "#Q8 ANSWER"
   ]
  },
  {
   "cell_type": "code",
   "execution_count": 3,
   "id": "9fd4fe48",
   "metadata": {},
   "outputs": [
    {
     "name": "stdout",
     "output_type": "stream",
     "text": [
      "Enter any number123456\n",
      "Reversed number is 654321\n"
     ]
    }
   ],
   "source": [
    "n=int(input(\"Enter any number\"))\n",
    "sum=0\n",
    "while n>0:\n",
    "    sum=sum*10+n%10\n",
    "    n=n//10\n",
    "print(f\"Reversed number is {sum}\")"
   ]
  },
  {
   "cell_type": "code",
   "execution_count": 8,
   "id": "ef578f87",
   "metadata": {},
   "outputs": [
    {
     "name": "stdout",
     "output_type": "stream",
     "text": [
      "Enter any number371\n",
      "Armstrong NUmber\n"
     ]
    }
   ],
   "source": [
    "n=int(input(\"Enter any number\"))\n",
    "y=n\n",
    "x=len(str(n))\n",
    "total=0\n",
    "while n>0:\n",
    "    total=total+(n%10)**x\n",
    "    n=n//10\n",
    "if y==total:\n",
    "    print(\"Armstrong NUmber\")\n",
    "else:\n",
    "    print(\"not an armstron number\")"
   ]
  },
  {
   "cell_type": "code",
   "execution_count": 11,
   "id": "deeab843",
   "metadata": {},
   "outputs": [
    {
     "name": "stdout",
     "output_type": "stream",
     "text": [
      "Enter any year1996\n",
      "1996 is a leap year\n"
     ]
    }
   ],
   "source": [
    "n=int(input(\"Enter any year\"))\n",
    "if n%400==0 and n%100==0:\n",
    "    print(f\"{n} is a leap year\")\n",
    "elif n%4==0 and n%100!=0:\n",
    "    print(f\"{n} is a leap year\")\n",
    "else:\n",
    "    print(f\"{n} is not a leap year\")"
   ]
  },
  {
   "cell_type": "code",
   "execution_count": null,
   "id": "8554b8e3",
   "metadata": {},
   "outputs": [],
   "source": []
  }
 ],
 "metadata": {
  "kernelspec": {
   "display_name": "Python 3 (ipykernel)",
   "language": "python",
   "name": "python3"
  },
  "language_info": {
   "codemirror_mode": {
    "name": "ipython",
    "version": 3
   },
   "file_extension": ".py",
   "mimetype": "text/x-python",
   "name": "python",
   "nbconvert_exporter": "python",
   "pygments_lexer": "ipython3",
   "version": "3.11.3"
  }
 },
 "nbformat": 4,
 "nbformat_minor": 5
}
